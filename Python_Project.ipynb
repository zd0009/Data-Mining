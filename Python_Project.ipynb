{
 "cells": [
  {
   "cell_type": "markdown",
   "metadata": {},
   "source": [
    "# Python Analysis\n",
    "# by Amily, Duo, Dylan\n",
    "## Getting external libraries"
   ]
  },
  {
   "cell_type": "code",
   "execution_count": 1,
   "metadata": {},
   "outputs": [],
   "source": [
    "import pandas as pd  # data frame operations  \n",
    "import numpy as np  # arrays and math functions\n",
    "import seaborn as sb\n",
    "from sklearn.linear_model import LogisticRegression\n",
    "from sklearn.model_selection import train_test_split\n",
    "from sklearn.metrics import confusion_matrix\n",
    "from sklearn.metrics import classification_report\n",
    "from sklearn import metrics\n",
    "import matplotlib.pyplot as plt\n",
    "   \n",
    "np.set_printoptions(precision=3)"
   ]
  },
  {
   "cell_type": "markdown",
   "metadata": {},
   "source": [
    "## Pre Processing Data"
   ]
  },
  {
   "cell_type": "code",
   "execution_count": 6,
   "metadata": {},
   "outputs": [
    {
     "name": "stderr",
     "output_type": "stream",
     "text": [
      "D:\\Anaconda\\lib\\site-packages\\IPython\\core\\interactiveshell.py:3063: DtypeWarning: Columns (16,19,85,122) have mixed types.Specify dtype option on import or set low_memory=False.\n",
      "  interactivity=interactivity, compiler=compiler, result=result)\n"
     ]
    }
   ],
   "source": [
    "dat=pd.read_csv('C:/Users/zhang/Desktop/Uchicago/coursework/project/PERM_FY2020_Q3.csv')"
   ]
  },
  {
   "cell_type": "markdown",
   "metadata": {},
   "source": [
    "## Defining Dummy variables for Student variable,and concatenate the dummy columns with original dataframe. \n"
   ]
  },
  {
   "cell_type": "code",
   "execution_count": 9,
   "metadata": {},
   "outputs": [],
   "source": [
    "dat['CASE_STATUS'] = pd.get_dummies(dat['CASE_STATUS'])\n",
    "dat['REQUIRED_TRAINING'] = pd.get_dummies(dat['REQUIRED_TRAINING'])\n",
    "dat['REQUIRED_EXPERIENCE'] = pd.get_dummies(dat['REQUIRED_EXPERIENCE'])\n",
    "dat['FOREIGN_LANGUAGE_REQUIRED'] = pd.get_dummies(dat['FOREIGN_LANGUAGE_REQUIRED'])\n",
    "dat['OFFERED_TO_APPL_FOREIGN_WORKER'] = pd.get_dummies(dat['OFFERED_TO_APPL_FOREIGN_WORKER'])\n",
    "dat['PROFESSIONAL_OCCUPATION'] = pd.get_dummies(dat['PROFESSIONAL_OCCUPATION'])\n",
    "dat['PW_WAGE'] = dat['PW_WAGE'].str[1:].replace(',','', regex=True).astype(float)\n",
    "dat = dat.dropna(subset = ['PW_WAGE'])\n",
    "dat.loc[dat['PW_UNIT_OF_PAY'] == \"Year\",'PW_WAGE'] = dat['PW_WAGE']/(37.5*52)\n",
    "dat['REQUIRED_TRAINING_MONTHS'].fillna(0, inplace = True)\n",
    "dat['REQUIRED_EXPERIENCE_MONTHS'].fillna(0, inplace = True)"
   ]
  },
  {
   "cell_type": "code",
   "execution_count": 10,
   "metadata": {},
   "outputs": [
    {
     "data": {
      "text/plain": [
       "0        14.490000\n",
       "1        19.360000\n",
       "2        40.330769\n",
       "3        67.445128\n",
       "4        27.509231\n",
       "           ...    \n",
       "71937    10.997436\n",
       "71938    45.077436\n",
       "71939    65.322564\n",
       "71940    49.898462\n",
       "71941    62.986667\n",
       "Name: PW_WAGE, Length: 71934, dtype: float64"
      ]
     },
     "execution_count": 10,
     "metadata": {},
     "output_type": "execute_result"
    }
   ],
   "source": [
    "dat['PW_WAGE']"
   ]
  },
  {
   "cell_type": "markdown",
   "metadata": {},
   "source": [
    "## Logistic Regression for Case Status based on Selected Variables"
   ]
  },
  {
   "cell_type": "code",
   "execution_count": 11,
   "metadata": {},
   "outputs": [
    {
     "name": "stderr",
     "output_type": "stream",
     "text": [
      "D:\\Anaconda\\lib\\site-packages\\sklearn\\linear_model\\_logistic.py:940: ConvergenceWarning: lbfgs failed to converge (status=1):\n",
      "STOP: TOTAL NO. of ITERATIONS REACHED LIMIT.\n",
      "\n",
      "Increase the number of iterations (max_iter) or scale the data as shown in:\n",
      "    https://scikit-learn.org/stable/modules/preprocessing.html\n",
      "Please also refer to the documentation for alternative solver options:\n",
      "    https://scikit-learn.org/stable/modules/linear_model.html#logistic-regression\n",
      "  extra_warning_msg=_LOGISTIC_SOLVER_CONVERGENCE_MSG)\n"
     ]
    },
    {
     "data": {
      "text/plain": [
       "0.6942336030249951"
      ]
     },
     "execution_count": 11,
     "metadata": {},
     "output_type": "execute_result"
    }
   ],
   "source": [
    "mymodel= LogisticRegression(C=100000000)\n",
    "X = dat[['PW_WAGE', 'REQUIRED_TRAINING','REQUIRED_TRAINING_MONTHS', 'REQUIRED_EXPERIENCE','REQUIRED_EXPERIENCE_MONTHS','FOREIGN_LANGUAGE_REQUIRED','OFFERED_TO_APPL_FOREIGN_WORKER','PROFESSIONAL_OCCUPATION']]\n",
    "y = dat['CASE_STATUS']\n",
    "my_results = mymodel.fit(X,y)\n",
    "my_results.score(X, y)"
   ]
  },
  {
   "cell_type": "code",
   "execution_count": 12,
   "metadata": {},
   "outputs": [
    {
     "name": "stdout",
     "output_type": "stream",
     "text": [
      "The coefficients are [[-2.985e-05  2.929e-01  9.161e-03 -2.678e-02 -2.933e-03  5.293e-01\n",
      "  -1.780e-02 -6.269e-01]] \n",
      "\n",
      "The Intercepts are [0.19] \n",
      "\n"
     ]
    },
    {
     "data": {
      "text/plain": [
       "array([[0.554, 0.446],\n",
       "       [0.429, 0.571],\n",
       "       [0.422, 0.578],\n",
       "       ...,\n",
       "       [0.303, 0.697],\n",
       "       [0.448, 0.552],\n",
       "       [0.281, 0.719]])"
      ]
     },
     "execution_count": 12,
     "metadata": {},
     "output_type": "execute_result"
    }
   ],
   "source": [
    "print(\"The coefficients are\", my_results.coef_, \"\\n\")\n",
    "print(\"The Intercepts are\", my_results.intercept_,\"\\n\")\n",
    "my_results.get_params()\n",
    "my_results.predict(X)\n",
    "my_results.predict_log_proba(X)\n",
    "my_results.predict_proba(X)"
   ]
  },
  {
   "cell_type": "code",
   "execution_count": null,
   "metadata": {},
   "outputs": [],
   "source": []
  }
 ],
 "metadata": {
  "kernelspec": {
   "display_name": "Python 3",
   "language": "python",
   "name": "python3"
  },
  "language_info": {
   "codemirror_mode": {
    "name": "ipython",
    "version": 3
   },
   "file_extension": ".py",
   "mimetype": "text/x-python",
   "name": "python",
   "nbconvert_exporter": "python",
   "pygments_lexer": "ipython3",
   "version": "3.7.6"
  }
 },
 "nbformat": 4,
 "nbformat_minor": 4
}
