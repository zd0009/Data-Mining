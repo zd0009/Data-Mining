{
 "cells": [
  {
   "cell_type": "markdown",
   "metadata": {},
   "source": [
    "# Python Analysis\n",
    "# by Amily, Duo, Dylan\n",
    "## Getting external libraries"
   ]
  },
  {
   "cell_type": "code",
   "execution_count": 23,
   "metadata": {},
   "outputs": [],
   "source": [
    "import pandas as pd  # data frame operations  \n",
    "import numpy as np  # arrays and math functions\n",
    "import seaborn as sb\n",
    "from sklearn.linear_model import LogisticRegression\n",
    "from sklearn.model_selection import train_test_split\n",
    "from sklearn.metrics import confusion_matrix\n",
    "from sklearn.metrics import classification_report\n",
    "from sklearn import metrics\n",
    "import matplotlib.pyplot as plt\n",
    "   \n",
    "np.set_printoptions(precision=3)"
   ]
  },
  {
   "cell_type": "markdown",
   "metadata": {},
   "source": [
    "## Pre Processing Data"
   ]
  },
  {
   "cell_type": "code",
   "execution_count": 4,
   "metadata": {},
   "outputs": [],
   "source": [
    "dat=pd.read_csv('C:/Users/zhang/Desktop/Uchicago/coursework/project/PERM_FY2020_Q3.csv')"
   ]
  },
  {
   "cell_type": "markdown",
   "metadata": {},
   "source": [
    "## Defining Dummy variables for Student variable,and concatenate the dummy columns with original dataframe. \n"
   ]
  },
  {
   "cell_type": "code",
   "execution_count": 10,
   "metadata": {},
   "outputs": [],
   "source": [
    "dat['CASE_STATUS'] = pd.get_dummies(dat['CASE_STATUS'])\n",
    "dat['PW_UNIT_OF_PAY'] = pd.get_dummies(dat['PW_UNIT_OF_PAY'])\n",
    "dat['REQUIRED_TRAINING'] = pd.get_dummies(dat['REQUIRED_TRAINING'])\n",
    "dat['REQUIRED_EXPERIENCE'] = pd.get_dummies(dat['REQUIRED_EXPERIENCE'])\n",
    "dat['FOREIGN_LANGUAGE_REQUIRED'] = pd.get_dummies(dat['FOREIGN_LANGUAGE_REQUIRED'])\n",
    "dat['OFFERED_TO_APPL_FOREIGN_WORKER'] = pd.get_dummies(dat['OFFERED_TO_APPL_FOREIGN_WORKER'])\n",
    "dat['PROFESSIONAL_OCCUPATION'] = pd.get_dummies(dat['PROFESSIONAL_OCCUPATION'])\n",
    "dat['PW_WAGE'] = dat['PW_WAGE'].str[:]\n",
    "\n",
    "dat['REQUIRED_TRAINING_MONTHS'].fillna(0, inplace = True)\n",
    "dat['REQUIRED_EXPERIENCE_MONTHS'].fillna(0, inplace = True)"
   ]
  },
  {
   "cell_type": "code",
   "execution_count": 11,
   "metadata": {},
   "outputs": [
    {
     "data": {
      "text/html": [
       "<div>\n",
       "<style scoped>\n",
       "    .dataframe tbody tr th:only-of-type {\n",
       "        vertical-align: middle;\n",
       "    }\n",
       "\n",
       "    .dataframe tbody tr th {\n",
       "        vertical-align: top;\n",
       "    }\n",
       "\n",
       "    .dataframe thead th {\n",
       "        text-align: right;\n",
       "    }\n",
       "</style>\n",
       "<table border=\"1\" class=\"dataframe\">\n",
       "  <thead>\n",
       "    <tr style=\"text-align: right;\">\n",
       "      <th></th>\n",
       "      <th>CASE_NUMBER</th>\n",
       "      <th>CASE_STATUS</th>\n",
       "      <th>RECEIVED_DATE</th>\n",
       "      <th>DECISION_DATE</th>\n",
       "      <th>REFILE</th>\n",
       "      <th>ORIG_FILE_DATE</th>\n",
       "      <th>PREVIOUS_SWA_CASE_NUMBER_STATE</th>\n",
       "      <th>SCHD_A_SHEEPHERDER</th>\n",
       "      <th>EMPLOYER_NAME</th>\n",
       "      <th>EMPLOYER_ADDRESS_1</th>\n",
       "      <th>...</th>\n",
       "      <th>FOREIGN_WORKER_ALT_OCC_EXP</th>\n",
       "      <th>FOREIGN_WORKER_EXP_WITH_EMPL</th>\n",
       "      <th>FOREIGN_WORKER_EMPL_PAY_FOR_ED</th>\n",
       "      <th>FOREIGN_WORKER_CURR_EMPLOYED</th>\n",
       "      <th>EMPLOYER_COMPLETED_APPLICATION</th>\n",
       "      <th>PREPARER_NAME</th>\n",
       "      <th>PREPARER_TITLE</th>\n",
       "      <th>PREPARER_EMAIL</th>\n",
       "      <th>EMP_INFO_DECL_NAME</th>\n",
       "      <th>EMP_INFO_DECL_TITLE</th>\n",
       "    </tr>\n",
       "  </thead>\n",
       "  <tbody>\n",
       "    <tr>\n",
       "      <th>0</th>\n",
       "      <td>A-09245-62715</td>\n",
       "      <td>0</td>\n",
       "      <td>03/09/2009</td>\n",
       "      <td>30/04/2020</td>\n",
       "      <td>N</td>\n",
       "      <td>NaN</td>\n",
       "      <td>NaN</td>\n",
       "      <td>N</td>\n",
       "      <td>SATURN ENTERPRISES INC</td>\n",
       "      <td>2340 N WASHTENAW AVE</td>\n",
       "      <td>...</td>\n",
       "      <td>NaN</td>\n",
       "      <td>N</td>\n",
       "      <td>N</td>\n",
       "      <td>N</td>\n",
       "      <td>N</td>\n",
       "      <td>Christopher E Kurczaba</td>\n",
       "      <td>Attorney</td>\n",
       "      <td>kurczabalaw@sbcglobal.net</td>\n",
       "      <td>Zygmunt  Oparowski</td>\n",
       "      <td>President</td>\n",
       "    </tr>\n",
       "    <tr>\n",
       "      <th>1</th>\n",
       "      <td>A-10119-96737</td>\n",
       "      <td>0</td>\n",
       "      <td>29/03/2010</td>\n",
       "      <td>18/10/2019</td>\n",
       "      <td>Y</td>\n",
       "      <td>15/09/2000</td>\n",
       "      <td>MARYLAND</td>\n",
       "      <td>N</td>\n",
       "      <td>FIL PARONG</td>\n",
       "      <td>13528 JAMIESON PL</td>\n",
       "      <td>...</td>\n",
       "      <td>NaN</td>\n",
       "      <td>N</td>\n",
       "      <td>N</td>\n",
       "      <td>N</td>\n",
       "      <td>N</td>\n",
       "      <td>WINSTON W TSAI</td>\n",
       "      <td>ATTORNEY AT LAW</td>\n",
       "      <td>WINSTONTSAI@AOL.COM</td>\n",
       "      <td>FIL  PARONG</td>\n",
       "      <td>HEAD OF HOUSEHOLD</td>\n",
       "    </tr>\n",
       "    <tr>\n",
       "      <th>2</th>\n",
       "      <td>A-10225-13679</td>\n",
       "      <td>0</td>\n",
       "      <td>10/08/2010</td>\n",
       "      <td>30/04/2020</td>\n",
       "      <td>N</td>\n",
       "      <td>NaN</td>\n",
       "      <td>NaN</td>\n",
       "      <td>N</td>\n",
       "      <td>GLENNS PLUMBING SERVICES</td>\n",
       "      <td>854 CUSTER STREET</td>\n",
       "      <td>...</td>\n",
       "      <td>N</td>\n",
       "      <td>N</td>\n",
       "      <td>N</td>\n",
       "      <td>N</td>\n",
       "      <td>N</td>\n",
       "      <td>DANIEL J SULLIVAN</td>\n",
       "      <td>ATTORNEY</td>\n",
       "      <td>GWG8@AOL.COM</td>\n",
       "      <td>DAVID  GLENN</td>\n",
       "      <td>OWNER</td>\n",
       "    </tr>\n",
       "    <tr>\n",
       "      <th>3</th>\n",
       "      <td>A-11033-51540</td>\n",
       "      <td>1</td>\n",
       "      <td>03/02/2011</td>\n",
       "      <td>28/05/2020</td>\n",
       "      <td>N</td>\n",
       "      <td>NaN</td>\n",
       "      <td>NaN</td>\n",
       "      <td>N</td>\n",
       "      <td>SKILLNET SOLUTIONS INC.</td>\n",
       "      <td>1901 SOUTH BASCOM AVENUE</td>\n",
       "      <td>...</td>\n",
       "      <td>Y</td>\n",
       "      <td>N</td>\n",
       "      <td>N</td>\n",
       "      <td>Y</td>\n",
       "      <td>N</td>\n",
       "      <td>Sonal  Kinger</td>\n",
       "      <td>Attorney at Law</td>\n",
       "      <td>sonal.kinger@bakerlawcorp.com</td>\n",
       "      <td>Jack  Grover</td>\n",
       "      <td>VP of Finance and Operations</td>\n",
       "    </tr>\n",
       "    <tr>\n",
       "      <th>4</th>\n",
       "      <td>A-11074-62984</td>\n",
       "      <td>0</td>\n",
       "      <td>10/03/2011</td>\n",
       "      <td>17/06/2020</td>\n",
       "      <td>N</td>\n",
       "      <td>NaN</td>\n",
       "      <td>NaN</td>\n",
       "      <td>N</td>\n",
       "      <td>R    L  CONSTRUCTION,  INC.</td>\n",
       "      <td>904  NEPPERHAN  AVENUE</td>\n",
       "      <td>...</td>\n",
       "      <td>NaN</td>\n",
       "      <td>N</td>\n",
       "      <td>N</td>\n",
       "      <td>N</td>\n",
       "      <td>N</td>\n",
       "      <td>DENISE S DUTTON</td>\n",
       "      <td>NONATTORNEY</td>\n",
       "      <td>NaN</td>\n",
       "      <td>RITA  O  SULLIVAN</td>\n",
       "      <td>MANAGER</td>\n",
       "    </tr>\n",
       "  </tbody>\n",
       "</table>\n",
       "<p>5 rows × 154 columns</p>\n",
       "</div>"
      ],
      "text/plain": [
       "     CASE_NUMBER  CASE_STATUS RECEIVED_DATE DECISION_DATE REFILE  \\\n",
       "0  A-09245-62715            0    03/09/2009    30/04/2020      N   \n",
       "1  A-10119-96737            0    29/03/2010    18/10/2019      Y   \n",
       "2  A-10225-13679            0    10/08/2010    30/04/2020      N   \n",
       "3  A-11033-51540            1    03/02/2011    28/05/2020      N   \n",
       "4  A-11074-62984            0    10/03/2011    17/06/2020      N   \n",
       "\n",
       "  ORIG_FILE_DATE PREVIOUS_SWA_CASE_NUMBER_STATE SCHD_A_SHEEPHERDER  \\\n",
       "0            NaN                            NaN                  N   \n",
       "1     15/09/2000                       MARYLAND                  N   \n",
       "2            NaN                            NaN                  N   \n",
       "3            NaN                            NaN                  N   \n",
       "4            NaN                            NaN                  N   \n",
       "\n",
       "                 EMPLOYER_NAME        EMPLOYER_ADDRESS_1  ...  \\\n",
       "0       SATURN ENTERPRISES INC      2340 N WASHTENAW AVE  ...   \n",
       "1                   FIL PARONG         13528 JAMIESON PL  ...   \n",
       "2     GLENNS PLUMBING SERVICES         854 CUSTER STREET  ...   \n",
       "3      SKILLNET SOLUTIONS INC.  1901 SOUTH BASCOM AVENUE  ...   \n",
       "4  R    L  CONSTRUCTION,  INC.    904  NEPPERHAN  AVENUE  ...   \n",
       "\n",
       "  FOREIGN_WORKER_ALT_OCC_EXP FOREIGN_WORKER_EXP_WITH_EMPL  \\\n",
       "0                        NaN                            N   \n",
       "1                        NaN                            N   \n",
       "2                          N                            N   \n",
       "3                          Y                            N   \n",
       "4                        NaN                            N   \n",
       "\n",
       "  FOREIGN_WORKER_EMPL_PAY_FOR_ED FOREIGN_WORKER_CURR_EMPLOYED  \\\n",
       "0                              N                            N   \n",
       "1                              N                            N   \n",
       "2                              N                            N   \n",
       "3                              N                            Y   \n",
       "4                              N                            N   \n",
       "\n",
       "  EMPLOYER_COMPLETED_APPLICATION           PREPARER_NAME   PREPARER_TITLE  \\\n",
       "0                              N  Christopher E Kurczaba         Attorney   \n",
       "1                              N          WINSTON W TSAI  ATTORNEY AT LAW   \n",
       "2                              N       DANIEL J SULLIVAN         ATTORNEY   \n",
       "3                              N           Sonal  Kinger  Attorney at Law   \n",
       "4                              N         DENISE S DUTTON      NONATTORNEY   \n",
       "\n",
       "                  PREPARER_EMAIL  EMP_INFO_DECL_NAME  \\\n",
       "0      kurczabalaw@sbcglobal.net  Zygmunt  Oparowski   \n",
       "1            WINSTONTSAI@AOL.COM         FIL  PARONG   \n",
       "2                   GWG8@AOL.COM        DAVID  GLENN   \n",
       "3  sonal.kinger@bakerlawcorp.com        Jack  Grover   \n",
       "4                            NaN   RITA  O  SULLIVAN   \n",
       "\n",
       "            EMP_INFO_DECL_TITLE  \n",
       "0                     President  \n",
       "1             HEAD OF HOUSEHOLD  \n",
       "2                         OWNER  \n",
       "3  VP of Finance and Operations  \n",
       "4                       MANAGER  \n",
       "\n",
       "[5 rows x 154 columns]"
      ]
     },
     "execution_count": 11,
     "metadata": {},
     "output_type": "execute_result"
    }
   ],
   "source": [
    "dat.head()"
   ]
  },
  {
   "cell_type": "markdown",
   "metadata": {},
   "source": [
    "## Logistic Regression for Case Status based on Selected Variables"
   ]
  },
  {
   "cell_type": "code",
   "execution_count": 21,
   "metadata": {},
   "outputs": [
    {
     "data": {
      "text/plain": [
       "0.6946846070445637"
      ]
     },
     "execution_count": 21,
     "metadata": {},
     "output_type": "execute_result"
    }
   ],
   "source": [
    "mymodel= LogisticRegression(C=100000000)\n",
    "X = dat[['PW_UNIT_OF_PAY', 'REQUIRED_TRAINING','REQUIRED_TRAINING_MONTHS', 'REQUIRED_EXPERIENCE','REQUIRED_EXPERIENCE_MONTHS','FOREIGN_LANGUAGE_REQUIRED','OFFERED_TO_APPL_FOREIGN_WORKER','PROFESSIONAL_OCCUPATION']]\n",
    "y = dat['CASE_STATUS']\n",
    "my_results = mymodel.fit(X,y)\n",
    "my_results.score(X, y)"
   ]
  },
  {
   "cell_type": "code",
   "execution_count": 22,
   "metadata": {},
   "outputs": [
    {
     "name": "stdout",
     "output_type": "stream",
     "text": [
      "The coefficients are [[-0.293  0.793  0.02   0.048 -0.002  0.809 -0.161 -0.628]] \n",
      "\n",
      "The Intercepts are [-0.353] \n",
      "\n"
     ]
    },
    {
     "data": {
      "text/plain": [
       "array([[0.627, 0.373],\n",
       "       [0.416, 0.584],\n",
       "       [0.428, 0.572],\n",
       "       ...,\n",
       "       [0.297, 0.703],\n",
       "       [0.441, 0.559],\n",
       "       [0.285, 0.715]])"
      ]
     },
     "execution_count": 22,
     "metadata": {},
     "output_type": "execute_result"
    }
   ],
   "source": [
    "print(\"The coefficients are\", my_results.coef_, \"\\n\")\n",
    "print(\"The Intercepts are\", my_results.intercept_,\"\\n\")\n",
    "my_results.get_params()\n",
    "my_results.predict(X)\n",
    "my_results.predict_log_proba(X)\n",
    "my_results.predict_proba(X)"
   ]
  },
  {
   "cell_type": "code",
   "execution_count": null,
   "metadata": {},
   "outputs": [],
   "source": []
  }
 ],
 "metadata": {
  "kernelspec": {
   "display_name": "Python 3",
   "language": "python",
   "name": "python3"
  },
  "language_info": {
   "codemirror_mode": {
    "name": "ipython",
    "version": 3
   },
   "file_extension": ".py",
   "mimetype": "text/x-python",
   "name": "python",
   "nbconvert_exporter": "python",
   "pygments_lexer": "ipython3",
   "version": "3.7.6"
  }
 },
 "nbformat": 4,
 "nbformat_minor": 4
}
